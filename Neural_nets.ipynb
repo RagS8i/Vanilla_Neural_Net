{
 "cells": [
  {
   "cell_type": "markdown",
   "id": "45733405-65a4-4c31-937a-019e26566751",
   "metadata": {},
   "source": [
    "<h1 style=\"text-align: center;\">Neural Network Implementation</h1>\n"
   ]
  },
  {
   "cell_type": "markdown",
   "id": "fb4d6a30-b834-4ad9-ba60-c3dbe072d10e",
   "metadata": {},
   "source": []
  },
  {
   "cell_type": "markdown",
   "id": "10dbdc30-5123-4061-97cb-b9a9440ff9a3",
   "metadata": {},
   "source": []
  },
  {
   "cell_type": "code",
   "execution_count": null,
   "id": "2d86f941-10bf-441b-8b57-7efccece40c7",
   "metadata": {},
   "outputs": [],
   "source": []
  },
  {
   "cell_type": "code",
   "execution_count": 3,
   "id": "c617de4c-480c-4a3e-b366-9322bb86749b",
   "metadata": {},
   "outputs": [],
   "source": [
    "import pandas as pd\n",
    "import numpy as np"
   ]
  },
  {
   "cell_type": "code",
   "execution_count": null,
   "id": "98665a0d-ea9e-4afa-9b7f-6568ef92565b",
   "metadata": {},
   "outputs": [],
   "source": []
  },
  {
   "cell_type": "code",
   "execution_count": 15,
   "id": "3cb3f47f-e8f5-4735-acaa-0d3b12e48d27",
   "metadata": {},
   "outputs": [],
   "source": [
    "class Dense_Layer:\n",
    "    def __init__(self,n_neurons,n_inputs):\n",
    "        self.W=np.random.randn((n_neurons,n_inputs)).T\n",
    "        self.b=np.zeros(1,n_inputs)\n",
    "    def forward(self,X): #assuming x has dimns m*n_features\n",
    "        self.X=X\n",
    "        self.output=np.dot(X,self.W) + self.b\n",
    "    def backward(self,dvalues):\n",
    "        self.dw=np.dot(self.X.T,dvalues)\n",
    "        self.db=np.sum(dvalues*1,axis=0,keepdims=True)\n",
    "        self.dinputs=np.dot(dvalues,self.W.T)"
   ]
  },
  {
   "cell_type": "code",
   "execution_count": null,
   "id": "b071f7c5-8d85-4894-8212-262906995e1e",
   "metadata": {},
   "outputs": [],
   "source": []
  },
  {
   "cell_type": "markdown",
   "id": "bf6fd55f-2463-46d7-bd31-f7edb8e871b5",
   "metadata": {},
   "source": [
    "## ACTIVATIONS"
   ]
  },
  {
   "cell_type": "code",
   "execution_count": 11,
   "id": "d394178c-ce58-4369-aa17-8104e604fd51",
   "metadata": {},
   "outputs": [],
   "source": [
    "class Activation_ReLu:\n",
    "    def forward(self,inp):\n",
    "        self.output=np.maximum(0,inp)\n",
    "        inputs=inp.copy()\n",
    "    def backward(self,dvalues):\n",
    "        self.dinputs = dvalues.copy()\n",
    "        self.dinputs[self.inputs <= 0] = 0"
   ]
  },
  {
   "cell_type": "code",
   "execution_count": 12,
   "id": "9f2a6642-2732-4807-b013-a00a260dbf18",
   "metadata": {},
   "outputs": [],
   "source": [
    "class Sigmoid:\n",
    "    def forward(self,inp):\n",
    "        self.output=1./(1+np.exp(-inp))\n",
    "    def backward(self,dvalues):\n",
    "        self.dinputs=(dvalues*self.output(1-self.output))"
   ]
  },
  {
   "cell_type": "code",
   "execution_count": 45,
   "id": "2ccba369-8d5f-4030-bc6e-d7ea634cc9ac",
   "metadata": {},
   "outputs": [],
   "source": [
    "class Softmax:\n",
    "    def forward(self,inp):# overflow prevention present\n",
    "        self.output=(np.exp(inp)- np.max(inp, axis=0, keepdims=True))/(np.sum(np.exp(inp),axis=0))\n",
    "    def backward(self,dvalues):\n",
    "        for i,output,dvalue in enumerate(zip(self.output,dvalues)):\n",
    "            dinputs[i]=np.dot((np.diagflat(output)-np.dot(output,output.T)),dvalue)\n",
    "#dot prod of jacobian of a single output and its derivative values row"
   ]
  },
  {
   "cell_type": "code",
   "execution_count": null,
   "id": "430cdf17-ffc4-4063-8bdc-2cd7eeafc68a",
   "metadata": {},
   "outputs": [],
   "source": [
    "class LeakyReLu:\n",
    "    def forward(self,inp):\n",
    "        "
   ]
  },
  {
   "cell_type": "code",
   "execution_count": null,
   "id": "490b6808-e300-4cc1-9680-b80c5d1a7fe1",
   "metadata": {},
   "outputs": [],
   "source": []
  },
  {
   "cell_type": "markdown",
   "id": "6ea0830e-8f2b-487b-aee3-35349eab0917",
   "metadata": {},
   "source": [
    "## LOSS FUNCTIONS"
   ]
  },
  {
   "cell_type": "code",
   "execution_count": 35,
   "id": "31ff14f6-da50-4fd6-b07e-902ebb9a4881",
   "metadata": {},
   "outputs": [],
   "source": [
    "class BinaryCrossEntropyLoss:\n",
    "    def calculate(self,y_hat,y_pred):# y-hat and y_pred are matrixes of dimn(m,1)\n",
    "        self.loss=(1./y_hat.shape[0])*np.dot(y_hat.reshape(1,-1),y_pred)\n",
    "   # def regularization():\n",
    "        "
   ]
  },
  {
   "cell_type": "code",
   "execution_count": 42,
   "id": "4eee684d-b34c-467b-8ae3-5ff36f7607fb",
   "metadata": {},
   "outputs": [],
   "source": [
    "class CatergoricalCrossEntropyLoss:\n",
    "    def calculate(self,y_act,y_pred):# assuming y_act(the labels-actual values) are one hot encoded OR as a m*1 vector consisting of correct category as 1,2,..no of categories\n",
    "        if (y_act.ndim == 1) or (y_act.ndim == 2 and y_act.shape[1] == 1):\n",
    "              y_act=np.eyes(y_pred.shape[1])[y_act.flatten-1] #.flatten to ensure its 1D, by GPT\n",
    "        y_pred = np.clip(y_pred, 1e-15, 1 - 1e-15) # to avoid log(0), by sentnex\n",
    "        self.cost=-np.sum(y_act*np.log(y_pred),axis=1)\n",
    "    #def regularization function to be added"
   ]
  },
  {
   "cell_type": "code",
   "execution_count": 43,
   "id": "3f78236f-87e2-4584-b83e-6afd11642f60",
   "metadata": {},
   "outputs": [],
   "source": [
    "class MSE:\n",
    "    def calculate(self,y_act,y_pred):\n",
    "        self.cost=np.sum((y_pred-y_act)**2)/(2*y_pred.shape[0])#axis not determined as both will be 1D matrices"
   ]
  },
  {
   "cell_type": "code",
   "execution_count": null,
   "id": "42eecd7e-8aee-402f-8dee-1e7ef20679cf",
   "metadata": {},
   "outputs": [],
   "source": [
    "class MAE:\n",
    "    def calculate(self,y_act,y_pred):\n",
    "        self.cost=np.abs(y_act-y_pred).mean()"
   ]
  },
  {
   "cell_type": "code",
   "execution_count": 44,
   "id": "bc94a5d4-382e-4c4f-90ff-b3f0d0aaae51",
   "metadata": {},
   "outputs": [],
   "source": [
    "class HuberLoss:\n",
    "    def calculate(self,y_act,y_pred,delta=1.0):\n",
    "        diffn=y_act-y_pred\n",
    "        self.cost=np.where(np.abs(diffn)<delta,(.5)*diffn**2,delta*np.abs(diffn)-(0.5)*delta**2)#sexy boi\n",
    "        self.cost=np.mean(self.cost)"
   ]
  },
  {
   "cell_type": "code",
   "execution_count": null,
   "id": "7a2e4e7b-895e-4def-bcc9-eccefae0dcb3",
   "metadata": {},
   "outputs": [],
   "source": []
  }
 ],
 "metadata": {
  "kernelspec": {
   "display_name": "Python 3 (ipykernel)",
   "language": "python",
   "name": "python3"
  },
  "language_info": {
   "codemirror_mode": {
    "name": "ipython",
    "version": 3
   },
   "file_extension": ".py",
   "mimetype": "text/x-python",
   "name": "python",
   "nbconvert_exporter": "python",
   "pygments_lexer": "ipython3",
   "version": "3.12.7"
  }
 },
 "nbformat": 4,
 "nbformat_minor": 5
}
