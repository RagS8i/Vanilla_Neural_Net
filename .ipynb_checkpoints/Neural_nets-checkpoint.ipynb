{
 "cells": [
  {
   "cell_type": "markdown",
   "id": "45733405-65a4-4c31-937a-019e26566751",
   "metadata": {},
   "source": [
    "<h1 style=\"text-align: center;\">Neural Network Implementation</h1>\n"
   ]
  },
  {
   "cell_type": "markdown",
   "id": "fb4d6a30-b834-4ad9-ba60-c3dbe072d10e",
   "metadata": {},
   "source": []
  },
  {
   "cell_type": "markdown",
   "id": "10dbdc30-5123-4061-97cb-b9a9440ff9a3",
   "metadata": {},
   "source": []
  },
  {
   "cell_type": "code",
   "execution_count": null,
   "id": "2d86f941-10bf-441b-8b57-7efccece40c7",
   "metadata": {},
   "outputs": [],
   "source": []
  },
  {
   "cell_type": "code",
   "execution_count": 3,
   "id": "c617de4c-480c-4a3e-b366-9322bb86749b",
   "metadata": {},
   "outputs": [],
   "source": [
    "import pandas as pd\n",
    "import numpy as np"
   ]
  },
  {
   "cell_type": "code",
   "execution_count": null,
   "id": "98665a0d-ea9e-4afa-9b7f-6568ef92565b",
   "metadata": {},
   "outputs": [],
   "source": []
  },
  {
   "cell_type": "code",
   "execution_count": 7,
   "id": "3cb3f47f-e8f5-4735-acaa-0d3b12e48d27",
   "metadata": {},
   "outputs": [],
   "source": [
    "class Dense:\n",
    "    def __init__(self,n_neurons,n_inputs):\n",
    "        self.W=np.zeros((n_neurons,n_inputs))\n",
    "        self.b=np.zeros(n_inputs,1)\n",
    "    def forward(self,X):\n",
    "        self.X=X\n",
    "        self.output=np.dot(self.W,X.T) + self.b\n",
    "    def backward(self,dvalues):\n",
    "        self.dw=np.dot(dvalues,self.X.T)\n",
    "        self.db=np.sum(dvalues*1,axis=1,keepdims=True)\n",
    "        self.dX=np.dot(self.W.T,dvalues)"
   ]
  },
  {
   "cell_type": "code",
   "execution_count": null,
   "id": "b071f7c5-8d85-4894-8212-262906995e1e",
   "metadata": {},
   "outputs": [],
   "source": []
  },
  {
   "cell_type": "code",
   "execution_count": 11,
   "id": "d394178c-ce58-4369-aa17-8104e604fd51",
   "metadata": {},
   "outputs": [],
   "source": [
    "class Activation_ReLu:\n",
    "    def forward(inp):\n",
    "        self.output=np.maximum(0,inp)\n",
    "        inputs=inp.copy()\n",
    "    def backward(dvalues):\n",
    "        self.dinputs = dvalues.copy()\n",
    "        self.dinputs[self.inputs <= 0] = 0"
   ]
  },
  {
   "cell_type": "code",
   "execution_count": null,
   "id": "c2d5d620-a1e6-4af5-bf0e-a5d94a81dd38",
   "metadata": {},
   "outputs": [],
   "source": []
  },
  {
   "cell_type": "code",
   "execution_count": 12,
   "id": "9f2a6642-2732-4807-b013-a00a260dbf18",
   "metadata": {},
   "outputs": [],
   "source": [
    "class Sigmoid:\n",
    "    def forward(inp):\n",
    "        self.output=1./(1+np.exp(-inp))\n",
    "    def backward(dvalues):\n",
    "        self.dinputs=(dvalues*self.output(1-self.output))"
   ]
  },
  {
   "cell_type": "code",
   "execution_count": 14,
   "id": "2ccba369-8d5f-4030-bc6e-d7ea634cc9ac",
   "metadata": {},
   "outputs": [],
   "source": [
    "class Softmax:\n",
    "    def forward(inp):# overflow prevention present\n",
    "        self.output=(np.exp(inp)- np.max(inp, axis=0, keepdims=True))/(np.sum(np.exp(inp),axis=0))\n",
    "    def backward"
   ]
  },
  {
   "cell_type": "code",
   "execution_count": null,
   "id": "7bd31e8d-3782-4763-ada7-cfaeec99aa91",
   "metadata": {},
   "outputs": [],
   "source": []
  }
 ],
 "metadata": {
  "kernelspec": {
   "display_name": "Python 3 (ipykernel)",
   "language": "python",
   "name": "python3"
  },
  "language_info": {
   "codemirror_mode": {
    "name": "ipython",
    "version": 3
   },
   "file_extension": ".py",
   "mimetype": "text/x-python",
   "name": "python",
   "nbconvert_exporter": "python",
   "pygments_lexer": "ipython3",
   "version": "3.12.7"
  }
 },
 "nbformat": 4,
 "nbformat_minor": 5
}
